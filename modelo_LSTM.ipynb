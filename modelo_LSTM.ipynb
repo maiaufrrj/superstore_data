{
  "nbformat": 4,
  "nbformat_minor": 0,
  "metadata": {
    "colab": {
      "name": "modelo_LSTM_v2.ipynb",
      "provenance": []
    },
    "kernelspec": {
      "name": "python3",
      "display_name": "Python 3"
    },
    "language_info": {
      "name": "python"
    }
  },
  "cells": [
    {
      "cell_type": "markdown",
      "metadata": {
        "id": "YczarGMygZvj"
      },
      "source": [
        "https://machinelearningmastery.com/time-series-forecasting-long-short-term-memory-network-python/"
      ]
    },
    {
      "cell_type": "code",
      "metadata": {
        "id": "g_uBmyYOkoHe"
      },
      "source": [
        "#!pip install scikit-learn==0.24"
      ],
      "execution_count": 10,
      "outputs": []
    },
    {
      "cell_type": "code",
      "metadata": {
        "colab": {
          "base_uri": "https://localhost:8080/"
        },
        "id": "9JDGkWA9Z6UF",
        "outputId": "ed19ab2a-6f64-4d92-bfc2-bc2e73b5b08b"
      },
      "source": [
        "from pandas import DataFrame, Series, concat, read_csv, datetime\n",
        "from sklearn.metrics import mean_squared_error, mean_absolute_percentage_error\n",
        "from sklearn.preprocessing import MinMaxScaler\n",
        "from keras.callbacks import EarlyStopping\n",
        "from keras.metrics import MeanAbsolutePercentageError\n",
        "from keras.models import Sequential\n",
        "from keras.layers import Dense, LSTM, Dropout\n",
        "from math import sqrt\n",
        "from matplotlib import pyplot\n",
        "import numpy"
      ],
      "execution_count": 14,
      "outputs": [
        {
          "output_type": "stream",
          "name": "stderr",
          "text": [
            "/usr/local/lib/python3.7/dist-packages/ipykernel_launcher.py:1: FutureWarning: The pandas.datetime class is deprecated and will be removed from pandas in a future version. Import from datetime module instead.\n",
            "  \"\"\"Entry point for launching an IPython kernel.\n"
          ]
        }
      ]
    },
    {
      "cell_type": "code",
      "metadata": {
        "id": "hsAQmFh0Z644"
      },
      "source": [
        "# date-time parsing function for loading the dataset\n",
        "def parser(x):\n",
        "\treturn datetime.strptime('190'+x, '%Y-%m')\n",
        " \n",
        "# frame a sequence as a supervised learning problem\n",
        "def timeseries_to_supervised(data, lag=1):\n",
        "\tdf = DataFrame(data)\n",
        "\tcolumns = [df.shift(i) for i in range(1, lag+1)]\n",
        "\tcolumns.append(df)\n",
        "\tdf = concat(columns, axis=1)\n",
        "\tdf.fillna(0, inplace=True)\n",
        "\treturn df\n",
        " \n",
        "# create a differenced series\n",
        "def difference(dataset, interval=1):\n",
        "\tdiff = list()\n",
        "\tfor i in range(interval, len(dataset)):\n",
        "\t\tvalue = dataset[i] - dataset[i - interval]\n",
        "\t\tdiff.append(value)\n",
        "\treturn Series(diff)\n",
        " \n",
        "# invert differenced value\n",
        "def inverse_difference(history, yhat, interval=1):\n",
        "\treturn yhat + history[-interval]\n",
        " \n",
        "# scale train and test data to [-1, 1]\n",
        "def scale(train, test):\n",
        "\t# fit scaler\n",
        "\tscaler = MinMaxScaler(feature_range=(-1, 1))\n",
        "\tscaler = scaler.fit(train)\n",
        "\t# transform train\n",
        "\ttrain = train.reshape(train.shape[0], train.shape[1])\n",
        "\ttrain_scaled = scaler.transform(train)\n",
        "\t# transform test\n",
        "\ttest = test.reshape(test.shape[0], test.shape[1])\n",
        "\ttest_scaled = scaler.transform(test)\n",
        "\treturn scaler, train_scaled, test_scaled\n",
        " \n",
        "# inverse scaling for a forecasted value\n",
        "def invert_scale(scaler, X, value):\n",
        "\tnew_row = [x for x in X] + [value]\n",
        "\tarray = numpy.array(new_row)\n",
        "\tarray = array.reshape(1, len(array))\n",
        "\tinverted = scaler.inverse_transform(array)\n",
        "\treturn inverted[0, -1]\n",
        " \n",
        "# fit an LSTM network to training data\n",
        "def fit_lstm(train, batch_size, nb_epoch, neurons):\n",
        "  early_stop=EarlyStopping(monitor='loss', patience = 30)\n",
        "  X, y = train[:, 0:-1], train[:, -1]\n",
        "  X = X.reshape(X.shape[0], 1, X.shape[1])\n",
        "  model = Sequential()\n",
        "  model.add(LSTM(neurons, batch_input_shape=(batch_size, X.shape[1], X.shape[2]), stateful=True))\n",
        "  model.add(Dense(1))\n",
        "  model.compile(loss='mape', optimizer='adam')\n",
        "  for i in range(nb_epoch):\n",
        "    model.fit(X, y, epochs=100, batch_size=batch_size, verbose=0, shuffle=False, callbacks=[early_stop])\n",
        "    model.reset_states()\n",
        "    return model\n",
        " \n",
        "# make a one-step forecast\n",
        "def forecast_lstm(model, batch_size, X):\n",
        "\tX = X.reshape(1, 1, len(X))\n",
        "\tyhat = model.predict(X, batch_size=batch_size)\n",
        "\treturn yhat[0,0]\n",
        "\n"
      ],
      "execution_count": 17,
      "outputs": []
    },
    {
      "cell_type": "code",
      "metadata": {
        "id": "gCQIw8N4Z6-u"
      },
      "source": [
        "# load dataset\n",
        "series = read_csv('https://raw.githubusercontent.com/maiaufrrj/superstore_data/main/df_final.csv', header=0, parse_dates=[0], index_col=0, squeeze=True)\n",
        " \n",
        "# transform data to be stationary\n",
        "raw_values = series.values\n",
        "diff_values = difference(raw_values, 1)\n",
        " \n",
        "# transform data to be supervised learning\n",
        "supervised = timeseries_to_supervised(diff_values, 1)\n",
        "supervised_values = supervised.values\n",
        " \n",
        "# split data into train and test-sets\n",
        "train, test = supervised_values[0:-36], supervised_values[-36:]\n",
        " \n",
        "# transform the scale of the data\n",
        "scaler, train_scaled, test_scaled = scale(train, test)\n"
      ],
      "execution_count": 18,
      "outputs": []
    },
    {
      "cell_type": "code",
      "metadata": {
        "colab": {
          "base_uri": "https://localhost:8080/"
        },
        "id": "oaNV5mKkZ672",
        "outputId": "986ca57a-b710-480c-cfda-5eb708141e04"
      },
      "source": [
        "#df_final carregado do github\n",
        "series.shape"
      ],
      "execution_count": 19,
      "outputs": [
        {
          "output_type": "execute_result",
          "data": {
            "text/plain": [
              "(48,)"
            ]
          },
          "metadata": {},
          "execution_count": 19
        }
      ]
    },
    {
      "cell_type": "code",
      "metadata": {
        "colab": {
          "base_uri": "https://localhost:8080/"
        },
        "id": "SgQA3dmSZ7BW",
        "outputId": "eb59890e-362e-47e6-aafe-87249dbccfab"
      },
      "source": [
        " # fit the model\n",
        "lstm_model = fit_lstm(train_scaled, 1, 3000, 4)\n",
        "# forecast the entire training dataset to build up state for forecasting\n",
        "train_reshaped = train_scaled[:, 0].reshape(len(train_scaled), 1, 1)\n",
        "lstm_model.predict(train_reshaped, batch_size=1)\n",
        " \n",
        "# walk-forward validation on the test data\n",
        "predictions = list()\n",
        "for i in range(len(test_scaled)):\n",
        "\t# make one-step forecast\n",
        "\tX, y = test_scaled[i, 0:-1], test_scaled[i, -1]\n",
        "\tyhat = forecast_lstm(lstm_model, 1, X)\n",
        "\t# invert scaling\n",
        "\tyhat = invert_scale(scaler, X, yhat)\n",
        "\t# invert differencing\n",
        "\tyhat = inverse_difference(raw_values, yhat, len(test_scaled)+1-i)\n",
        "\t# store forecast\n",
        "\tpredictions.append(yhat)\n",
        "\texpected = raw_values[len(train) + i + 1]\n",
        "\tprint('Month=%d, Predicted=%f, Expected=%f' % (i+1, yhat, expected))\n",
        " "
      ],
      "execution_count": 20,
      "outputs": [
        {
          "output_type": "stream",
          "name": "stdout",
          "text": [
            "Month=1, Predicted=309768.413966, Expected=162800.893380\n",
            "Month=2, Predicted=182817.355472, Expected=152661.151440\n",
            "Month=3, Predicted=173507.938866, Expected=201608.727840\n",
            "Month=4, Predicted=224958.648566, Expected=187469.961920\n",
            "Month=5, Predicted=209620.796504, Expected=218960.160420\n",
            "Month=6, Predicted=241435.805392, Expected=249289.771720\n",
            "Month=7, Predicted=269617.482263, Expected=174394.028080\n",
            "Month=8, Predicted=195960.126917, Expected=271669.660860\n",
            "Month=9, Predicted=294792.768636, Expected=256567.853080\n",
            "Month=10, Predicted=273357.224815, Expected=239321.099040\n",
            "Month=11, Predicted=257576.176707, Expected=270723.053560\n",
            "Month=12, Predicted=290438.642722, Expected=291972.333060\n",
            "Month=13, Predicted=309953.208715, Expected=206459.195820\n",
            "Month=14, Predicted=228237.950631, Expected=191062.772160\n",
            "Month=15, Predicted=215103.466729, Expected=230547.794680\n",
            "Month=16, Predicted=256289.101952, Expected=233181.348440\n",
            "Month=17, Predicted=257867.209571, Expected=304509.963360\n",
            "Month=18, Predicted=329645.025740, Expected=341162.343700\n",
            "Month=19, Predicted=359803.789711, Expected=223642.656640\n",
            "Month=20, Predicted=246292.205653, Expected=323876.607160\n",
            "Month=21, Predicted=346448.294712, Expected=326897.270440\n",
            "Month=22, Predicted=344007.208855, Expected=270121.875700\n",
            "Month=23, Predicted=290093.710801, Expected=383039.212480\n",
            "Month=24, Predicted=406500.922394, Expected=371245.408800\n",
            "Month=25, Predicted=386532.018867, Expected=268265.522400\n",
            "Month=26, Predicted=292459.491075, Expected=244159.304860\n",
            "Month=27, Predicted=270516.677078, Expected=347720.968680\n",
            "Month=28, Predicted=375124.080460, Expected=302132.540000\n",
            "Month=29, Predicted=327386.185888, Expected=304798.836040\n",
            "Month=30, Predicted=331538.838535, Expected=372577.232980\n",
            "Month=31, Predicted=400020.002602, Expected=278672.173260\n",
            "Month=32, Predicted=307295.826924, Expected=432731.041940\n",
            "Month=33, Predicted=460601.065016, Expected=405436.705840\n",
            "Month=34, Predicted=424772.028195, Expected=406659.415000\n",
            "Month=35, Predicted=427917.457048, Expected=508954.731560\n",
            "Month=36, Predicted=534153.351573, Expected=427757.398000\n"
          ]
        }
      ]
    },
    {
      "cell_type": "code",
      "metadata": {
        "colab": {
          "base_uri": "https://localhost:8080/",
          "height": 285
        },
        "id": "ghiE0zVThhAV",
        "outputId": "6fadfdd9-15ac-44b2-cb31-de36cd9249ac"
      },
      "source": [
        "# report performance\n",
        "rmse = sqrt(mean_squared_error(raw_values[-36:], predictions))\n",
        "\n",
        "print('Test RMSE: %.3f' % rmse)\n",
        "# line plot of observed vs predicted\n",
        "pyplot.plot(raw_values[-36:])\n",
        "pyplot.plot(predictions)\n",
        "pyplot.show()"
      ],
      "execution_count": 21,
      "outputs": [
        {
          "output_type": "stream",
          "name": "stdout",
          "text": [
            "Test RMSE: 70597.277\n"
          ]
        },
        {
          "output_type": "display_data",
          "data": {
            "image/png": "[encoded data removed]",
            "text/plain": [
              "<Figure size 432x288 with 1 Axes>"
            ]
          },
          "metadata": {
            "needs_background": "light"
          }
        }
      ]
    },
    {
      "cell_type": "code",
      "metadata": {
        "colab": {
          "base_uri": "https://localhost:8080/"
        },
        "id": "o3wQ2F-thkom",
        "outputId": "46c8be97-045c-4ad2-c604-ded4d4b51659"
      },
      "source": [
        "import numpy as np\n",
        "def mean_absolute_percentage_error(y_true, y_pred): \n",
        "    y_true, y_pred = np.array(y_true), np.array(y_pred)\n",
        "    return np.mean(np.abs((y_true - y_pred) / y_true)) * 100\n",
        "\n",
        "mape=mean_absolute_percentage_error(raw_values[-36:], predictions)\n",
        "mape = \"%0.2f\" % mape\n",
        "print('Ao longo da série temos uma MAPE de: ' + mape + '%')"
      ],
      "execution_count": 23,
      "outputs": [
        {
          "output_type": "stream",
          "name": "stdout",
          "text": [
            "Ao longo da série temos uma MAPE de: 21.81%\n"
          ]
        }
      ]
    }
  ]
}