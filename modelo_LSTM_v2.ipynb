{
  "nbformat": 4,
  "nbformat_minor": 0,
  "metadata": {
    "colab": {
      "name": "modelo_LSTM_v2.ipynb",
      "provenance": [],
      "authorship_tag": "ABX9TyOAy7gkBfzM/vbMTENKftF+",
      "include_colab_link": true
    },
    "kernelspec": {
      "name": "python3",
      "display_name": "Python 3"
    },
    "language_info": {
      "name": "python"
    }
  },
  "cells": [
    {
      "cell_type": "markdown",
      "metadata": {
        "id": "view-in-github",
        "colab_type": "text"
      },
      "source": [
        "<a href=\"https://colab.research.google.com/github/maiaufrrj/superstore_data/blob/main/modelo_LSTM_v2.ipynb\" target=\"_parent\"><img src=\"https://colab.research.google.com/assets/colab-badge.svg\" alt=\"Open In Colab\"/></a>"
      ]
    },
    {
      "cell_type": "markdown",
      "metadata": {
        "id": "YczarGMygZvj"
      },
      "source": [
        "https://machinelearningmastery.com/time-series-forecasting-long-short-term-memory-network-python/"
      ]
    },
    {
      "cell_type": "code",
      "metadata": {
        "id": "g_uBmyYOkoHe"
      },
      "source": [
        "#!pip install scikit-learn==0.24"
      ],
      "execution_count": null,
      "outputs": []
    },
    {
      "cell_type": "code",
      "metadata": {
        "colab": {
          "base_uri": "https://localhost:8080/"
        },
        "id": "9JDGkWA9Z6UF",
        "outputId": "ea05bc52-55be-4e0e-e8fe-cd28e2626074"
      },
      "source": [
        "from pandas import DataFrame, Series, concat, read_csv, datetime\n",
        "from sklearn.metrics import mean_squared_error, mean_absolute_percentage_error\n",
        "from sklearn.preprocessing import MinMaxScaler\n",
        "from keras.callbacks import EarlyStopping\n",
        "from keras.models import Sequential\n",
        "from keras.layers import Dense, LSTM, Dropout\n",
        "from keras.callbacks import EarlyStopping\n",
        "from math import sqrt\n",
        "from matplotlib import pyplot\n",
        "import numpy as np"
      ],
      "execution_count": 1,
      "outputs": [
        {
          "output_type": "stream",
          "name": "stderr",
          "text": [
            "/usr/local/lib/python3.7/dist-packages/ipykernel_launcher.py:1: FutureWarning: The pandas.datetime class is deprecated and will be removed from pandas in a future version. Import from datetime module instead.\n",
            "  \"\"\"Entry point for launching an IPython kernel.\n"
          ]
        }
      ]
    },
    {
      "cell_type": "code",
      "metadata": {
        "id": "hsAQmFh0Z644"
      },
      "source": [
        "# date-time parsing function for loading the dataset\n",
        "def parser(x):\n",
        "\treturn datetime.strptime('190'+x, '%Y-%m')\n",
        " \n",
        "# frame a sequence as a supervised learning problem\n",
        "def timeseries_to_supervised(data, lag=1):\n",
        "\tdf = DataFrame(data)\n",
        "\tcolumns = [df.shift(i) for i in range(1, lag+1)]\n",
        "\tcolumns.append(df)\n",
        "\tdf = concat(columns, axis=1)\n",
        "\tdf.fillna(0, inplace=True)\n",
        "\treturn df\n",
        " \n",
        "# create a differenced series\n",
        "def difference(dataset, interval=1):\n",
        "\tdiff = list()\n",
        "\tfor i in range(interval, len(dataset)):\n",
        "\t\tvalue = dataset[i] - dataset[i - interval]\n",
        "\t\tdiff.append(value)\n",
        "\treturn Series(diff)\n",
        " \n",
        "# invert differenced value\n",
        "def inverse_difference(history, yhat, interval=1):\n",
        "\treturn yhat + history[-interval]\n",
        " \n",
        "# scale train and test data to [-1, 1]\n",
        "def scale(train, test):\n",
        "\t# fit scaler\n",
        "\tscaler = MinMaxScaler(feature_range=(-1, 1))\n",
        "\tscaler = scaler.fit(train)\n",
        "\t# transform train\n",
        "\ttrain = train.reshape(train.shape[0], train.shape[1])\n",
        "\ttrain_scaled = scaler.transform(train)\n",
        "\t# transform test\n",
        "\ttest = test.reshape(test.shape[0], test.shape[1])\n",
        "\ttest_scaled = scaler.transform(test)\n",
        "\treturn scaler, train_scaled, test_scaled\n",
        " \n",
        "# inverse scaling for a forecasted value\n",
        "def invert_scale(scaler, X, value):\n",
        "\tnew_row = [x for x in X] + [value]\n",
        "\tarray = numpy.array(new_row)\n",
        "\tarray = array.reshape(1, len(array))\n",
        "\tinverted = scaler.inverse_transform(array)\n",
        "\treturn inverted[0, -1]\n",
        " \n",
        "# fit an LSTM network to training data\n",
        "def fit_lstm(train, batch_size, nb_epoch, neurons):\n",
        "\tX, y = train[:, 0:-1], train[:, -1]\n",
        "\tX = X.reshape(X.shape[0], 1, X.shape[1])\n",
        "\tmodel = Sequential()\n",
        "  early_stop = EarlyStopping(monitor='val_loss', patience = 30)\n",
        "\tmodel.add(LSTM(neurons, batch_input_shape=(batch_size, X.shape[1], X.shape[2]), stateful=True))\n",
        "\tmodel.add(Dense(1))\n",
        "\tmodel.compile(loss='mean_absolute_percentage_error', optimizer='adam')\n",
        "\tfor i in range(nb_epoch):\n",
        "\t\tmodel.fit(X, y, epochs=1, batch_size=batch_size, verbose=0, shuffle=False, callbacks=[early_stop])\n",
        "\t\tmodel.reset_states()\n",
        "\treturn model\n",
        " \n",
        "# make a one-step forecast\n",
        "def forecast_lstm(model, batch_size, X):\n",
        "\tX = X.reshape(1, 1, len(X))\n",
        "\tyhat = model.predict(X, batch_size=batch_size)\n",
        "\treturn yhat[0,0]"
      ],
      "execution_count": 6,
      "outputs": []
    },
    {
      "cell_type": "code",
      "metadata": {
        "id": "gCQIw8N4Z6-u"
      },
      "source": [
        "# load dataset\n",
        "series = read_csv('https://raw.githubusercontent.com/maiaufrrj/superstore_data/main/df_final.csv', header=0, parse_dates=[0], index_col=0, squeeze=True)\n",
        " \n",
        "# transform data to be stationary\n",
        "raw_values = series.values\n",
        "diff_values = difference(raw_values, 1)\n",
        " \n",
        "# transform data to be supervised learning\n",
        "supervised = timeseries_to_supervised(diff_values, 1)\n",
        "supervised_values = supervised.values\n",
        " \n",
        "# split data into train and test-sets\n",
        "train, test = supervised_values[0:-12], supervised_values[-12:]\n",
        " \n",
        "# transform the scale of the data\n",
        "scaler, train_scaled, test_scaled = scale(train, test)\n"
      ],
      "execution_count": 8,
      "outputs": []
    },
    {
      "cell_type": "code",
      "metadata": {
        "colab": {
          "base_uri": "https://localhost:8080/"
        },
        "id": "oaNV5mKkZ672",
        "outputId": "a9171b19-6e49-48cd-a498-7d4d229e4bbb"
      },
      "source": [
        "#df_final carregado do github\n",
        "series"
      ],
      "execution_count": 17,
      "outputs": [
        {
          "output_type": "execute_result",
          "data": {
            "text/plain": [
              "ds\n",
              "2011-01-31    138241.30042\n",
              "2011-02-28    134969.94086\n",
              "2011-03-31    171455.59372\n",
              "2011-04-30    128833.47034\n",
              "2011-05-31    148146.72092\n",
              "2011-06-30    189338.43966\n",
              "2011-07-31    162034.69756\n",
              "2011-08-31    219223.49524\n",
              "2011-09-30    255237.89698\n",
              "2011-10-31    204675.07846\n",
              "2011-11-30    214934.29386\n",
              "2011-12-31    292359.96752\n",
              "2012-01-31    162800.89338\n",
              "2012-02-29    152661.15144\n",
              "2012-03-31    201608.72784\n",
              "2012-04-30    187469.96192\n",
              "2012-05-31    218960.16042\n",
              "2012-06-30    249289.77172\n",
              "2012-07-31    174394.02808\n",
              "2012-08-31    271669.66086\n",
              "2012-09-30    256567.85308\n",
              "2012-10-31    239321.09904\n",
              "2012-11-30    270723.05356\n",
              "2012-12-31    291972.33306\n",
              "2013-01-31    206459.19582\n",
              "2013-02-28    191062.77216\n",
              "2013-03-31    230547.79468\n",
              "2013-04-30    233181.34844\n",
              "2013-05-31    304509.96336\n",
              "2013-06-30    341162.34370\n",
              "2013-07-31    223642.65664\n",
              "2013-08-31    323876.60716\n",
              "2013-09-30    326897.27044\n",
              "2013-10-31    270121.87570\n",
              "2013-11-30    383039.21248\n",
              "2013-12-31    371245.40880\n",
              "2014-01-31    268265.52240\n",
              "2014-02-28    244159.30486\n",
              "2014-03-31    347720.96868\n",
              "2014-04-30    302132.54000\n",
              "2014-05-31    304798.83604\n",
              "2014-06-30    372577.23298\n",
              "2014-07-31    278672.17326\n",
              "2014-08-31    432731.04194\n",
              "2014-09-30    405436.70584\n",
              "2014-10-31    406659.41500\n",
              "2014-11-30    508954.73156\n",
              "2014-12-31    427757.39800\n",
              "Name: Venda Mensal Real, dtype: float64"
            ]
          },
          "metadata": {},
          "execution_count": 17
        }
      ]
    },
    {
      "cell_type": "code",
      "metadata": {
        "colab": {
          "base_uri": "https://localhost:8080/"
        },
        "id": "SgQA3dmSZ7BW",
        "outputId": "e9347304-729a-44fa-e509-84a2f321ee6d"
      },
      "source": [
        " # fit the model\n",
        "lstm_model = fit_lstm(train_scaled, 1, 3000, 4)\n",
        "# forecast the entire training dataset to build up state for forecasting\n",
        "train_reshaped = train_scaled[:, 0].reshape(len(train_scaled), 1, 1)\n",
        "lstm_model.predict(train_reshaped, batch_size=1)\n",
        " \n",
        "# walk-forward validation on the test data\n",
        "predictions = list()\n",
        "for i in range(len(test_scaled)):\n",
        "\t# make one-step forecast\n",
        "\tX, y = test_scaled[i, 0:-1], test_scaled[i, -1]\n",
        "\tyhat = forecast_lstm(lstm_model, 1, X)\n",
        "\t# invert scaling\n",
        "\tyhat = invert_scale(scaler, X, yhat)\n",
        "\t# invert differencing\n",
        "\tyhat = inverse_difference(raw_values, yhat, len(test_scaled)+1-i)\n",
        "\t# store forecast\n",
        "\tpredictions.append(yhat)\n",
        "\texpected = raw_values[len(train) + i + 1]\n",
        "\tprint('Month=%d, Predicted=%f, Expected=%f' % (i+1, yhat, expected))\n",
        " "
      ],
      "execution_count": 11,
      "outputs": [
        {
          "output_type": "stream",
          "name": "stdout",
          "text": [
            "Month=1, Predicted=308719.056058, Expected=268265.522400\n",
            "Month=2, Predicted=259534.355442, Expected=244159.304860\n",
            "Month=3, Predicted=318020.838676, Expected=347720.968680\n",
            "Month=4, Predicted=337830.361139, Expected=302132.540000\n",
            "Month=5, Predicted=360516.511078, Expected=304798.836040\n",
            "Month=6, Predicted=344991.576316, Expected=372577.232980\n",
            "Month=7, Predicted=366775.636048, Expected=278672.173260\n",
            "Month=8, Predicted=270810.691522, Expected=432731.041940\n",
            "Month=9, Predicted=212875.822558, Expected=405436.705840\n",
            "Month=10, Predicted=177723.686937, Expected=406659.415000\n",
            "Month=11, Predicted=210932.766528, Expected=508954.731560\n",
            "Month=12, Predicted=284934.946359, Expected=427757.398000\n"
          ]
        }
      ]
    },
    {
      "cell_type": "code",
      "metadata": {
        "colab": {
          "base_uri": "https://localhost:8080/",
          "height": 282
        },
        "id": "ghiE0zVThhAV",
        "outputId": "7c48bb34-328b-41ab-a78c-c839c9e0d854"
      },
      "source": [
        "# report performance\n",
        "rmse = sqrt(mean_squared_error(raw_values[-12:], predictions))\n",
        "\n",
        "print('Test RMSE: %.3f' % rmse)\n",
        "# line plot of observed vs predicted\n",
        "pyplot.plot(raw_values[-12:])\n",
        "pyplot.plot(predictions)\n",
        "pyplot.show()"
      ],
      "execution_count": 12,
      "outputs": [
        {
          "output_type": "stream",
          "name": "stdout",
          "text": [
            "Test RMSE: 141592.657\n"
          ]
        },
        {
          "output_type": "display_data",
          "data": {
            "image/png": "[encoded data removed]",
            "text/plain": [
              "<Figure size 432x288 with 1 Axes>"
            ]
          },
          "metadata": {
            "needs_background": "light"
          }
        }
      ]
    },
    {
      "cell_type": "code",
      "metadata": {
        "colab": {
          "base_uri": "https://localhost:8080/"
        },
        "id": "o3wQ2F-thkom",
        "outputId": "1f5791d4-8159-4195-d669-a01483fff454"
      },
      "source": [
        "def mean_absolute_percentage_error(y_true, y_pred): \n",
        "    y_true, y_pred = np.array(y_true), np.array(y_pred)\n",
        "    return np.mean(np.abs((y_true - y_pred) / y_true)) * 100\n",
        "\n",
        "mape=mean_absolute_percentage_error(raw_values[-12:], predictions)\n",
        "mape = \"%0.2f\" % mape\n",
        "print('Ao longo da série temos uma MAPE de: ' + mape + '%')"
      ],
      "execution_count": 19,
      "outputs": [
        {
          "output_type": "stream",
          "name": "stdout",
          "text": [
            "Ao longo da série temos uma MAPE de: 27.68%\n"
          ]
        }
      ]
    }
  ]
}